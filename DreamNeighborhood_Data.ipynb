{
 "cells": [
  {
   "cell_type": "markdown",
   "metadata": {},
   "source": [
    "## Capstone Project: City/Neighborhood recommender for visiting\n",
    "### Introduction\n",
    "*Auther: Xinyue Luo*"
   ]
  },
  {
   "cell_type": "markdown",
   "metadata": {},
   "source": [
    "1. Largest 10 or 20 cities by population on the US east coast (list obtained from Wikipedia page https://en.wikipedia.org/wiki/Eastern_United_States; depends on whether neighborhood geographical location data is readiliy available on NYU's database or other websites) will be involved in clustering\n",
    "2. Information of nearby venues **(latitute, longitute, category)** will be obtained from **FOURSQUARE** for each neighborhood in each city involved\n",
    "3. A **normalized frequency count of each venue category** for each neighborhood will be used as independent variables when performing clustering of all neighborhoods involved in this study\n",
    "4. Recommended neighborhoods will be returned as final results, once a user inputs a known favorate neighborhood, or preferences for ideal neighborhood (represented as venue categories and score/weight - higher score/weight is converted to preference for higher frequency of such venture category in the neighborhood)\n",
    "\n",
    "***\n",
    "- *If possible, more features could be added to **Step 3** as independent variables to improve clustering accuracy. For example, the distrubution pattern of local restaurants/shops could indicate whether a shopping/entertainment hub exists, which could result in very different clustering result comparing to when not considered*"
   ]
  },
  {
   "cell_type": "code",
   "execution_count": null,
   "metadata": {},
   "outputs": [],
   "source": []
  }
 ],
 "metadata": {
  "kernelspec": {
   "display_name": "Python 3",
   "language": "python",
   "name": "python3"
  },
  "language_info": {
   "codemirror_mode": {
    "name": "ipython",
    "version": 3
   },
   "file_extension": ".py",
   "mimetype": "text/x-python",
   "name": "python",
   "nbconvert_exporter": "python",
   "pygments_lexer": "ipython3",
   "version": "3.6.8"
  }
 },
 "nbformat": 4,
 "nbformat_minor": 2
}
