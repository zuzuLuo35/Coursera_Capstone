{
 "cells": [
  {
   "cell_type": "markdown",
   "metadata": {},
   "source": [
    "## Capstone Project: City recommender (for visiting or living)\n",
    "### Introduction\n",
    "*Auther: Xinyue Luo*"
   ]
  },
  {
   "cell_type": "markdown",
   "metadata": {},
   "source": [
    "#### The business problem\n",
    "Looking for a dream city to start a new life or a perfect place to spend your vacation is a big commitment which begins with lots of online search for reviews, or even in-person visits. This learning process could be tiring and time-consuming. Can we make this process a little less stressful by generating recommendations using local information available online, based on customized user preferences of city features?\n",
    "\n",
    "#### Overview of goals\n",
    "##### Primary objective\n",
    "In this project, I will build a clustering tool which can be used to **provide recommendations of cities** that one would like to live in or visit, based on **nearby local attractions** (restaurants, parks, etc.) and the **user's preferences** (e.g. a known favorate city/neighborhood or preference for creative attractions like museums).\n",
    "##### Secondary objective\n",
    "For top cities on the recommendation list generated from previous step, I will perform clustering (either with k-means or DBSCAN) to identify centroids/hubs of attractions as well as the most popular attraction types. With these new insights, a further narrowed-down recommendation list of locations within each city will be generated. "
   ]
  },
  {
   "cell_type": "code",
   "execution_count": null,
   "metadata": {},
   "outputs": [],
   "source": []
  }
 ],
 "metadata": {
  "kernelspec": {
   "display_name": "Python 3",
   "language": "python",
   "name": "python3"
  },
  "language_info": {
   "codemirror_mode": {
    "name": "ipython",
    "version": 3
   },
   "file_extension": ".py",
   "mimetype": "text/x-python",
   "name": "python",
   "nbconvert_exporter": "python",
   "pygments_lexer": "ipython3",
   "version": "3.6.8"
  }
 },
 "nbformat": 4,
 "nbformat_minor": 2
}
