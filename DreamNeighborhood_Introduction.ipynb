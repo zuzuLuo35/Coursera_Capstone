{
 "cells": [
  {
   "cell_type": "markdown",
   "metadata": {},
   "source": [
    "## Capstone Project: City/Neighborhood recommendor for visiting\n",
    "### Introduction\n",
    "*Auther: Xinyue Luo*"
   ]
  },
  {
   "cell_type": "markdown",
   "metadata": {},
   "source": [
    "Looking for a dream neighborhood to start a new life or a perfect place to spend your vacation is a big commitment which begins with lots of online search for reviews, or even in-person visits. This learning process could be tiring and time-consuming. Luckily, we can make this process a little less stressful by generating recommendations using local information and user information.\n",
    "\n",
    "In this project, I will build a clustering tool which can be used to **provide recommendations of neighborhoods** that one would like to live in or visit, based on **local attractions** (restaurants, parks, etc.) and the **user's preferences** (e.g. a known favorate neighborhood or preference for creative attractions like museums)."
   ]
  },
  {
   "cell_type": "code",
   "execution_count": null,
   "metadata": {},
   "outputs": [],
   "source": []
  }
 ],
 "metadata": {
  "kernelspec": {
   "display_name": "Python 3",
   "language": "python",
   "name": "python3"
  },
  "language_info": {
   "codemirror_mode": {
    "name": "ipython",
    "version": 3
   },
   "file_extension": ".py",
   "mimetype": "text/x-python",
   "name": "python",
   "nbconvert_exporter": "python",
   "pygments_lexer": "ipython3",
   "version": "3.6.8"
  }
 },
 "nbformat": 4,
 "nbformat_minor": 2
}
